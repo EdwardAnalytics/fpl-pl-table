{
 "cells": [
  {
   "cell_type": "code",
   "execution_count": 1,
   "metadata": {},
   "outputs": [],
   "source": [
    "# Change directory to level up to import functions\n",
    "import os\n",
    "os.chdir('..')"
   ]
  },
  {
   "cell_type": "code",
   "execution_count": 2,
   "metadata": {},
   "outputs": [],
   "source": [
    "from src.data_prep.reload_data import get_current_season_start_year, get_season_string, get_current_gameweek, check_and_update_metadata, get_current_season_fpl, get_current_season_actual,get_completed_seasons_fpl ,get_completed_seasons_actual\n",
    "from src.tools.yaml_loader import load_yaml_file\n"
   ]
  },
  {
   "cell_type": "code",
   "execution_count": 3,
   "metadata": {},
   "outputs": [],
   "source": [
    "# Get Team name mapping\n",
    "team_name_mapping_path = \"conf/team_name_mapping.yaml\"\n",
    "team_name_mapping = load_yaml_file(team_name_mapping_path)"
   ]
  },
  {
   "cell_type": "code",
   "execution_count": 5,
   "metadata": {},
   "outputs": [
    {
     "name": "stderr",
     "output_type": "stream",
     "text": [
      "c:\\Users\\edwar\\OneDrive\\Documents\\08_Hobbies\\01_Edward\\01_Fantasy_Football\\06_Premier_League_Table\\fpl-pl-table\\src\\data_prep\\actual_pl_table.py:52: FutureWarning: Passing literal html to 'read_html' is deprecated and will be removed in a future version. To read from a literal string, wrap it in a 'StringIO' object.\n",
      "  df = pd.read_html(str(table))[0]\n",
      "c:\\Users\\edwar\\OneDrive\\Documents\\08_Hobbies\\01_Edward\\01_Fantasy_Football\\06_Premier_League_Table\\fpl-pl-table\\src\\data_prep\\actual_pl_table.py:52: FutureWarning: Passing literal html to 'read_html' is deprecated and will be removed in a future version. To read from a literal string, wrap it in a 'StringIO' object.\n",
      "  df = pd.read_html(str(table))[0]\n",
      "c:\\Users\\edwar\\OneDrive\\Documents\\08_Hobbies\\01_Edward\\01_Fantasy_Football\\06_Premier_League_Table\\fpl-pl-table\\src\\data_prep\\actual_pl_table.py:52: FutureWarning: Passing literal html to 'read_html' is deprecated and will be removed in a future version. To read from a literal string, wrap it in a 'StringIO' object.\n",
      "  df = pd.read_html(str(table))[0]\n",
      "c:\\Users\\edwar\\OneDrive\\Documents\\08_Hobbies\\01_Edward\\01_Fantasy_Football\\06_Premier_League_Table\\fpl-pl-table\\src\\data_prep\\actual_pl_table.py:52: FutureWarning: Passing literal html to 'read_html' is deprecated and will be removed in a future version. To read from a literal string, wrap it in a 'StringIO' object.\n",
      "  df = pd.read_html(str(table))[0]\n",
      "c:\\Users\\edwar\\OneDrive\\Documents\\08_Hobbies\\01_Edward\\01_Fantasy_Football\\06_Premier_League_Table\\fpl-pl-table\\src\\data_prep\\actual_pl_table.py:60: FutureWarning: DataFrame.applymap has been deprecated. Use DataFrame.map instead.\n",
      "  df = df.replace(r'\\[.*?\\]', '', regex=True).applymap(lambda x: x.strip() if isinstance(x, str) else x)\n",
      "c:\\Users\\edwar\\OneDrive\\Documents\\08_Hobbies\\01_Edward\\01_Fantasy_Football\\06_Premier_League_Table\\fpl-pl-table\\src\\data_prep\\actual_pl_table.py:52: FutureWarning: Passing literal html to 'read_html' is deprecated and will be removed in a future version. To read from a literal string, wrap it in a 'StringIO' object.\n",
      "  df = pd.read_html(str(table))[0]\n",
      "c:\\Users\\edwar\\OneDrive\\Documents\\08_Hobbies\\01_Edward\\01_Fantasy_Football\\06_Premier_League_Table\\fpl-pl-table\\src\\data_prep\\actual_pl_table.py:52: FutureWarning: Passing literal html to 'read_html' is deprecated and will be removed in a future version. To read from a literal string, wrap it in a 'StringIO' object.\n",
      "  df = pd.read_html(str(table))[0]\n",
      "c:\\Users\\edwar\\OneDrive\\Documents\\08_Hobbies\\01_Edward\\01_Fantasy_Football\\06_Premier_League_Table\\fpl-pl-table\\src\\data_prep\\actual_pl_table.py:52: FutureWarning: Passing literal html to 'read_html' is deprecated and will be removed in a future version. To read from a literal string, wrap it in a 'StringIO' object.\n",
      "  df = pd.read_html(str(table))[0]\n",
      "c:\\Users\\edwar\\OneDrive\\Documents\\08_Hobbies\\01_Edward\\01_Fantasy_Football\\06_Premier_League_Table\\fpl-pl-table\\src\\data_prep\\actual_pl_table.py:52: FutureWarning: Passing literal html to 'read_html' is deprecated and will be removed in a future version. To read from a literal string, wrap it in a 'StringIO' object.\n",
      "  df = pd.read_html(str(table))[0]\n",
      "c:\\Users\\edwar\\OneDrive\\Documents\\08_Hobbies\\01_Edward\\01_Fantasy_Football\\06_Premier_League_Table\\fpl-pl-table\\src\\data_prep\\actual_pl_table.py:60: FutureWarning: DataFrame.applymap has been deprecated. Use DataFrame.map instead.\n",
      "  df = df.replace(r'\\[.*?\\]', '', regex=True).applymap(lambda x: x.strip() if isinstance(x, str) else x)\n",
      "c:\\Users\\edwar\\OneDrive\\Documents\\08_Hobbies\\01_Edward\\01_Fantasy_Football\\06_Premier_League_Table\\fpl-pl-table\\src\\data_prep\\actual_pl_table.py:52: FutureWarning: Passing literal html to 'read_html' is deprecated and will be removed in a future version. To read from a literal string, wrap it in a 'StringIO' object.\n",
      "  df = pd.read_html(str(table))[0]\n",
      "c:\\Users\\edwar\\OneDrive\\Documents\\08_Hobbies\\01_Edward\\01_Fantasy_Football\\06_Premier_League_Table\\fpl-pl-table\\src\\data_prep\\actual_pl_table.py:52: FutureWarning: Passing literal html to 'read_html' is deprecated and will be removed in a future version. To read from a literal string, wrap it in a 'StringIO' object.\n",
      "  df = pd.read_html(str(table))[0]\n",
      "c:\\Users\\edwar\\OneDrive\\Documents\\08_Hobbies\\01_Edward\\01_Fantasy_Football\\06_Premier_League_Table\\fpl-pl-table\\src\\data_prep\\actual_pl_table.py:52: FutureWarning: Passing literal html to 'read_html' is deprecated and will be removed in a future version. To read from a literal string, wrap it in a 'StringIO' object.\n",
      "  df = pd.read_html(str(table))[0]\n",
      "c:\\Users\\edwar\\OneDrive\\Documents\\08_Hobbies\\01_Edward\\01_Fantasy_Football\\06_Premier_League_Table\\fpl-pl-table\\src\\data_prep\\actual_pl_table.py:52: FutureWarning: Passing literal html to 'read_html' is deprecated and will be removed in a future version. To read from a literal string, wrap it in a 'StringIO' object.\n",
      "  df = pd.read_html(str(table))[0]\n",
      "c:\\Users\\edwar\\OneDrive\\Documents\\08_Hobbies\\01_Edward\\01_Fantasy_Football\\06_Premier_League_Table\\fpl-pl-table\\src\\data_prep\\actual_pl_table.py:60: FutureWarning: DataFrame.applymap has been deprecated. Use DataFrame.map instead.\n",
      "  df = df.replace(r'\\[.*?\\]', '', regex=True).applymap(lambda x: x.strip() if isinstance(x, str) else x)\n",
      "c:\\Users\\edwar\\OneDrive\\Documents\\08_Hobbies\\01_Edward\\01_Fantasy_Football\\06_Premier_League_Table\\fpl-pl-table\\src\\data_prep\\actual_pl_table.py:52: FutureWarning: Passing literal html to 'read_html' is deprecated and will be removed in a future version. To read from a literal string, wrap it in a 'StringIO' object.\n",
      "  df = pd.read_html(str(table))[0]\n",
      "c:\\Users\\edwar\\OneDrive\\Documents\\08_Hobbies\\01_Edward\\01_Fantasy_Football\\06_Premier_League_Table\\fpl-pl-table\\src\\data_prep\\actual_pl_table.py:52: FutureWarning: Passing literal html to 'read_html' is deprecated and will be removed in a future version. To read from a literal string, wrap it in a 'StringIO' object.\n",
      "  df = pd.read_html(str(table))[0]\n",
      "c:\\Users\\edwar\\OneDrive\\Documents\\08_Hobbies\\01_Edward\\01_Fantasy_Football\\06_Premier_League_Table\\fpl-pl-table\\src\\data_prep\\actual_pl_table.py:52: FutureWarning: Passing literal html to 'read_html' is deprecated and will be removed in a future version. To read from a literal string, wrap it in a 'StringIO' object.\n",
      "  df = pd.read_html(str(table))[0]\n",
      "c:\\Users\\edwar\\OneDrive\\Documents\\08_Hobbies\\01_Edward\\01_Fantasy_Football\\06_Premier_League_Table\\fpl-pl-table\\src\\data_prep\\actual_pl_table.py:52: FutureWarning: Passing literal html to 'read_html' is deprecated and will be removed in a future version. To read from a literal string, wrap it in a 'StringIO' object.\n",
      "  df = pd.read_html(str(table))[0]\n",
      "c:\\Users\\edwar\\OneDrive\\Documents\\08_Hobbies\\01_Edward\\01_Fantasy_Football\\06_Premier_League_Table\\fpl-pl-table\\src\\data_prep\\actual_pl_table.py:52: FutureWarning: Passing literal html to 'read_html' is deprecated and will be removed in a future version. To read from a literal string, wrap it in a 'StringIO' object.\n",
      "  df = pd.read_html(str(table))[0]\n",
      "c:\\Users\\edwar\\OneDrive\\Documents\\08_Hobbies\\01_Edward\\01_Fantasy_Football\\06_Premier_League_Table\\fpl-pl-table\\src\\data_prep\\actual_pl_table.py:60: FutureWarning: DataFrame.applymap has been deprecated. Use DataFrame.map instead.\n",
      "  df = df.replace(r'\\[.*?\\]', '', regex=True).applymap(lambda x: x.strip() if isinstance(x, str) else x)\n",
      "c:\\Users\\edwar\\OneDrive\\Documents\\08_Hobbies\\01_Edward\\01_Fantasy_Football\\06_Premier_League_Table\\fpl-pl-table\\src\\data_prep\\actual_pl_table.py:52: FutureWarning: Passing literal html to 'read_html' is deprecated and will be removed in a future version. To read from a literal string, wrap it in a 'StringIO' object.\n",
      "  df = pd.read_html(str(table))[0]\n",
      "c:\\Users\\edwar\\OneDrive\\Documents\\08_Hobbies\\01_Edward\\01_Fantasy_Football\\06_Premier_League_Table\\fpl-pl-table\\src\\data_prep\\actual_pl_table.py:52: FutureWarning: Passing literal html to 'read_html' is deprecated and will be removed in a future version. To read from a literal string, wrap it in a 'StringIO' object.\n",
      "  df = pd.read_html(str(table))[0]\n",
      "c:\\Users\\edwar\\OneDrive\\Documents\\08_Hobbies\\01_Edward\\01_Fantasy_Football\\06_Premier_League_Table\\fpl-pl-table\\src\\data_prep\\actual_pl_table.py:52: FutureWarning: Passing literal html to 'read_html' is deprecated and will be removed in a future version. To read from a literal string, wrap it in a 'StringIO' object.\n",
      "  df = pd.read_html(str(table))[0]\n",
      "c:\\Users\\edwar\\OneDrive\\Documents\\08_Hobbies\\01_Edward\\01_Fantasy_Football\\06_Premier_League_Table\\fpl-pl-table\\src\\data_prep\\actual_pl_table.py:52: FutureWarning: Passing literal html to 'read_html' is deprecated and will be removed in a future version. To read from a literal string, wrap it in a 'StringIO' object.\n",
      "  df = pd.read_html(str(table))[0]\n",
      "c:\\Users\\edwar\\OneDrive\\Documents\\08_Hobbies\\01_Edward\\01_Fantasy_Football\\06_Premier_League_Table\\fpl-pl-table\\src\\data_prep\\actual_pl_table.py:60: FutureWarning: DataFrame.applymap has been deprecated. Use DataFrame.map instead.\n",
      "  df = df.replace(r'\\[.*?\\]', '', regex=True).applymap(lambda x: x.strip() if isinstance(x, str) else x)\n",
      "c:\\Users\\edwar\\OneDrive\\Documents\\08_Hobbies\\01_Edward\\01_Fantasy_Football\\06_Premier_League_Table\\fpl-pl-table\\src\\data_prep\\actual_pl_table.py:52: FutureWarning: Passing literal html to 'read_html' is deprecated and will be removed in a future version. To read from a literal string, wrap it in a 'StringIO' object.\n",
      "  df = pd.read_html(str(table))[0]\n",
      "c:\\Users\\edwar\\OneDrive\\Documents\\08_Hobbies\\01_Edward\\01_Fantasy_Football\\06_Premier_League_Table\\fpl-pl-table\\src\\data_prep\\actual_pl_table.py:52: FutureWarning: Passing literal html to 'read_html' is deprecated and will be removed in a future version. To read from a literal string, wrap it in a 'StringIO' object.\n",
      "  df = pd.read_html(str(table))[0]\n",
      "c:\\Users\\edwar\\OneDrive\\Documents\\08_Hobbies\\01_Edward\\01_Fantasy_Football\\06_Premier_League_Table\\fpl-pl-table\\src\\data_prep\\actual_pl_table.py:52: FutureWarning: Passing literal html to 'read_html' is deprecated and will be removed in a future version. To read from a literal string, wrap it in a 'StringIO' object.\n",
      "  df = pd.read_html(str(table))[0]\n",
      "c:\\Users\\edwar\\OneDrive\\Documents\\08_Hobbies\\01_Edward\\01_Fantasy_Football\\06_Premier_League_Table\\fpl-pl-table\\src\\data_prep\\actual_pl_table.py:52: FutureWarning: Passing literal html to 'read_html' is deprecated and will be removed in a future version. To read from a literal string, wrap it in a 'StringIO' object.\n",
      "  df = pd.read_html(str(table))[0]\n",
      "c:\\Users\\edwar\\OneDrive\\Documents\\08_Hobbies\\01_Edward\\01_Fantasy_Football\\06_Premier_League_Table\\fpl-pl-table\\src\\data_prep\\actual_pl_table.py:60: FutureWarning: DataFrame.applymap has been deprecated. Use DataFrame.map instead.\n",
      "  df = df.replace(r'\\[.*?\\]', '', regex=True).applymap(lambda x: x.strip() if isinstance(x, str) else x)\n",
      "c:\\Users\\edwar\\OneDrive\\Documents\\08_Hobbies\\01_Edward\\01_Fantasy_Football\\06_Premier_League_Table\\fpl-pl-table\\src\\data_prep\\actual_pl_table.py:52: FutureWarning: Passing literal html to 'read_html' is deprecated and will be removed in a future version. To read from a literal string, wrap it in a 'StringIO' object.\n",
      "  df = pd.read_html(str(table))[0]\n",
      "c:\\Users\\edwar\\OneDrive\\Documents\\08_Hobbies\\01_Edward\\01_Fantasy_Football\\06_Premier_League_Table\\fpl-pl-table\\src\\data_prep\\actual_pl_table.py:52: FutureWarning: Passing literal html to 'read_html' is deprecated and will be removed in a future version. To read from a literal string, wrap it in a 'StringIO' object.\n",
      "  df = pd.read_html(str(table))[0]\n",
      "c:\\Users\\edwar\\OneDrive\\Documents\\08_Hobbies\\01_Edward\\01_Fantasy_Football\\06_Premier_League_Table\\fpl-pl-table\\src\\data_prep\\actual_pl_table.py:52: FutureWarning: Passing literal html to 'read_html' is deprecated and will be removed in a future version. To read from a literal string, wrap it in a 'StringIO' object.\n",
      "  df = pd.read_html(str(table))[0]\n",
      "c:\\Users\\edwar\\OneDrive\\Documents\\08_Hobbies\\01_Edward\\01_Fantasy_Football\\06_Premier_League_Table\\fpl-pl-table\\src\\data_prep\\actual_pl_table.py:52: FutureWarning: Passing literal html to 'read_html' is deprecated and will be removed in a future version. To read from a literal string, wrap it in a 'StringIO' object.\n",
      "  df = pd.read_html(str(table))[0]\n",
      "c:\\Users\\edwar\\OneDrive\\Documents\\08_Hobbies\\01_Edward\\01_Fantasy_Football\\06_Premier_League_Table\\fpl-pl-table\\src\\data_prep\\actual_pl_table.py:60: FutureWarning: DataFrame.applymap has been deprecated. Use DataFrame.map instead.\n",
      "  df = df.replace(r'\\[.*?\\]', '', regex=True).applymap(lambda x: x.strip() if isinstance(x, str) else x)\n",
      "c:\\Users\\edwar\\OneDrive\\Documents\\08_Hobbies\\01_Edward\\01_Fantasy_Football\\06_Premier_League_Table\\fpl-pl-table\\src\\data_prep\\actual_pl_table.py:52: FutureWarning: Passing literal html to 'read_html' is deprecated and will be removed in a future version. To read from a literal string, wrap it in a 'StringIO' object.\n",
      "  df = pd.read_html(str(table))[0]\n",
      "c:\\Users\\edwar\\OneDrive\\Documents\\08_Hobbies\\01_Edward\\01_Fantasy_Football\\06_Premier_League_Table\\fpl-pl-table\\src\\data_prep\\actual_pl_table.py:52: FutureWarning: Passing literal html to 'read_html' is deprecated and will be removed in a future version. To read from a literal string, wrap it in a 'StringIO' object.\n",
      "  df = pd.read_html(str(table))[0]\n",
      "c:\\Users\\edwar\\OneDrive\\Documents\\08_Hobbies\\01_Edward\\01_Fantasy_Football\\06_Premier_League_Table\\fpl-pl-table\\src\\data_prep\\actual_pl_table.py:52: FutureWarning: Passing literal html to 'read_html' is deprecated and will be removed in a future version. To read from a literal string, wrap it in a 'StringIO' object.\n",
      "  df = pd.read_html(str(table))[0]\n",
      "c:\\Users\\edwar\\OneDrive\\Documents\\08_Hobbies\\01_Edward\\01_Fantasy_Football\\06_Premier_League_Table\\fpl-pl-table\\src\\data_prep\\actual_pl_table.py:52: FutureWarning: Passing literal html to 'read_html' is deprecated and will be removed in a future version. To read from a literal string, wrap it in a 'StringIO' object.\n",
      "  df = pd.read_html(str(table))[0]\n",
      "c:\\Users\\edwar\\OneDrive\\Documents\\08_Hobbies\\01_Edward\\01_Fantasy_Football\\06_Premier_League_Table\\fpl-pl-table\\src\\data_prep\\actual_pl_table.py:60: FutureWarning: DataFrame.applymap has been deprecated. Use DataFrame.map instead.\n",
      "  df = df.replace(r'\\[.*?\\]', '', regex=True).applymap(lambda x: x.strip() if isinstance(x, str) else x)\n",
      "c:\\Users\\edwar\\OneDrive\\Documents\\08_Hobbies\\01_Edward\\01_Fantasy_Football\\06_Premier_League_Table\\fpl-pl-table\\src\\data_prep\\actual_pl_table.py:52: FutureWarning: Passing literal html to 'read_html' is deprecated and will be removed in a future version. To read from a literal string, wrap it in a 'StringIO' object.\n",
      "  df = pd.read_html(str(table))[0]\n",
      "c:\\Users\\edwar\\OneDrive\\Documents\\08_Hobbies\\01_Edward\\01_Fantasy_Football\\06_Premier_League_Table\\fpl-pl-table\\src\\data_prep\\actual_pl_table.py:52: FutureWarning: Passing literal html to 'read_html' is deprecated and will be removed in a future version. To read from a literal string, wrap it in a 'StringIO' object.\n",
      "  df = pd.read_html(str(table))[0]\n",
      "c:\\Users\\edwar\\OneDrive\\Documents\\08_Hobbies\\01_Edward\\01_Fantasy_Football\\06_Premier_League_Table\\fpl-pl-table\\src\\data_prep\\actual_pl_table.py:52: FutureWarning: Passing literal html to 'read_html' is deprecated and will be removed in a future version. To read from a literal string, wrap it in a 'StringIO' object.\n",
      "  df = pd.read_html(str(table))[0]\n",
      "c:\\Users\\edwar\\OneDrive\\Documents\\08_Hobbies\\01_Edward\\01_Fantasy_Football\\06_Premier_League_Table\\fpl-pl-table\\src\\data_prep\\actual_pl_table.py:52: FutureWarning: Passing literal html to 'read_html' is deprecated and will be removed in a future version. To read from a literal string, wrap it in a 'StringIO' object.\n",
      "  df = pd.read_html(str(table))[0]\n",
      "c:\\Users\\edwar\\OneDrive\\Documents\\08_Hobbies\\01_Edward\\01_Fantasy_Football\\06_Premier_League_Table\\fpl-pl-table\\src\\data_prep\\actual_pl_table.py:60: FutureWarning: DataFrame.applymap has been deprecated. Use DataFrame.map instead.\n",
      "  df = df.replace(r'\\[.*?\\]', '', regex=True).applymap(lambda x: x.strip() if isinstance(x, str) else x)\n"
     ]
    }
   ],
   "source": [
    "season_start = get_current_season_start_year()\n",
    "season_string = get_season_string(season_start)\n",
    "\n",
    "current_gameweek = get_current_gameweek(season_string)\n",
    "\n",
    "check_and_update_metadata(current_gameweek)\n",
    "\n",
    "# Get completed seasons\n",
    "# get_completed_seasons_fpl(first_season_start=2016, latest_season_start=2023)\n",
    "\n",
    "# Get current season\n",
    "# Only run if new player data run\n",
    "get_current_season_fpl(season_start=season_start)\n",
    "\n",
    "# Get completed seasons\n",
    "# get_completed_seasons_actual(first_season_start=2016, latest_season_start=2023)\n",
    "\n",
    "# Get current season\n",
    "# Only run if new player data run\n",
    "get_current_season_actual(season_start=season_start)"
   ]
  },
  {
   "cell_type": "code",
   "execution_count": 6,
   "metadata": {},
   "outputs": [],
   "source": [
    "import pandas as pd\n",
    "import glob"
   ]
  },
  {
   "cell_type": "code",
   "execution_count": 7,
   "metadata": {},
   "outputs": [],
   "source": [
    "# Join data\n",
    "# Path to the folder containing the CSV files\n",
    "folder_path = 'data/fpl_premier_league_tables/*.csv'\n",
    "\n",
    "# List all CSV files in the folder\n",
    "csv_files = glob.glob(folder_path)\n",
    "\n",
    "# Read and concatenate all CSV files into a single DataFrame\n",
    "df_list = [pd.read_csv(file) for file in csv_files]\n",
    "combined_df = pd.concat(df_list, ignore_index=True)"
   ]
  },
  {
   "cell_type": "code",
   "execution_count": 13,
   "metadata": {},
   "outputs": [],
   "source": [
    "import os\n",
    "\n",
    "# Path to the folder containing the CSV files\n",
    "folder_path = 'data/fpl_premier_league_tables'\n",
    "\n",
    "# List all files in the folder\n",
    "seasons = os.listdir(folder_path)\n",
    "seasons = [season.replace('.csv', '') for season in seasons]"
   ]
  },
  {
   "cell_type": "code",
   "execution_count": 15,
   "metadata": {},
   "outputs": [
    {
     "data": {
      "text/plain": [
       "['2016-17',\n",
       " '2017-18',\n",
       " '2018-19',\n",
       " '2019-20',\n",
       " '2020-21',\n",
       " '2021-22',\n",
       " '2022-23',\n",
       " '2023-24',\n",
       " '2024-25']"
      ]
     },
     "execution_count": 15,
     "metadata": {},
     "output_type": "execute_result"
    }
   ],
   "source": [
    "seasons"
   ]
  },
  {
   "cell_type": "code",
   "execution_count": 34,
   "metadata": {},
   "outputs": [],
   "source": [
    "pd.rea"
   ]
  },
  {
   "cell_type": "code",
   "execution_count": 3,
   "metadata": {},
   "outputs": [],
   "source": []
  },
  {
   "cell_type": "code",
   "execution_count": null,
   "metadata": {},
   "outputs": [],
   "source": []
  },
  {
   "cell_type": "code",
   "execution_count": 5,
   "metadata": {},
   "outputs": [],
   "source": [
    "season_start = 2024"
   ]
  },
  {
   "cell_type": "code",
   "execution_count": null,
   "metadata": {},
   "outputs": [],
   "source": []
  },
  {
   "cell_type": "code",
   "execution_count": null,
   "metadata": {},
   "outputs": [],
   "source": []
  }
 ],
 "metadata": {
  "kernelspec": {
   "display_name": "Python 3",
   "language": "python",
   "name": "python3"
  },
  "language_info": {
   "codemirror_mode": {
    "name": "ipython",
    "version": 3
   },
   "file_extension": ".py",
   "mimetype": "text/x-python",
   "name": "python",
   "nbconvert_exporter": "python",
   "pygments_lexer": "ipython3",
   "version": "3.11.7"
  }
 },
 "nbformat": 4,
 "nbformat_minor": 2
}
